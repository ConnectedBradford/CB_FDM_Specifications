{
 "cells": [
  {
   "cell_type": "code",
   "execution_count": 4,
   "id": "92f36c0e-d54a-4b5a-864b-d90a5d98c026",
   "metadata": {},
   "outputs": [],
   "source": [
    "#FDM_UnitTest_v1.1.ipynb\n",
    "#Runs a series of sql statements against a built FDM.\n",
    "#First Part runs against standard tables.\n",
    "##Needs code to build it if it doesn't\n",
    "\n",
    "#You will need to manually amend the target dataset for this script\n",
    "\n",
    "library(bigrquery)\n",
    "\n",
    "# Store the project ID\n",
    "project_id = \"yhcr-prd-phm-bia-core\"\n",
    "\n",
    "# Store the FDM targetdb\n",
    "targetdb <-'yhcr-prd-phm-bia-core.CY_FDM_PrimaryCare_V7'\n",
    "targetdb <-gsub(' ','',targetdb)\n",
    "#print (targetdb)\n",
    "\n",
    "#checklist of tests\n",
    "#event dates after dod+42 days\n",
    "#observation period check\n",
    "#person_id missing from data\n",
    "#person_id in data missing from person table\n",
    "#data tables contain date_from_date_to fields --- will need to lodd table names into temp table - use dynamic sql to build this\n",
    "#                                                 pull in from schema - delete standard tables as these will be hardcoded, then \n",
    "#                                                 cursor through \n",
    "\n"
   ]
  },
  {
   "cell_type": "code",
   "execution_count": 51,
   "id": "9465f23c-da4d-40fc-b404-3a1cf1f189c4",
   "metadata": {},
   "outputs": [],
   "source": [
    "#build the results table\n",
    "\n",
    "sql1 <-paste('drop table if  exists ' ,targetdb,'.tmp_unit_test_results;', sep = \"\")\n",
    "tb1 <- bq_project_query(project_id, sql1)\n",
    "\n",
    "sql2 <-paste('create table if not exists ' ,targetdb,'.tmp_unit_test_results \n",
    "(testno int64,\n",
    " test_desc string,\n",
    " test_result string,\n",
    " test_date datetime\n",
    ");', sep = \"\")\n",
    "tb2 <- bq_project_query(project_id, sql2)"
   ]
  },
  {
   "cell_type": "code",
   "execution_count": 6,
   "id": "6f3b9478-32d4-4d81-b9cb-b8e28776c2ee",
   "metadata": {},
   "outputs": [
    {
     "data": {
      "text/html": [
       "<table class=\"dataframe\">\n",
       "<caption>A tibble: 17 × 1</caption>\n",
       "<thead>\n",
       "\t<tr><th scope=col>table_name</th></tr>\n",
       "\t<tr><th scope=col>&lt;chr&gt;</th></tr>\n",
       "</thead>\n",
       "<tbody>\n",
       "\t<tr><td>tbl_srappointment          </td></tr>\n",
       "\t<tr><td>tbl_srcode                 </td></tr>\n",
       "\t<tr><td>tbl_srconfiguredlistoption </td></tr>\n",
       "\t<tr><td>tbl_srimmunisation         </td></tr>\n",
       "\t<tr><td>tbl_srimmunisationcontent  </td></tr>\n",
       "\t<tr><td>tbl_srpatient              </td></tr>\n",
       "\t<tr><td>tbl_srpatientaddresshistory</td></tr>\n",
       "\t<tr><td>tbl_srpatientregistration  </td></tr>\n",
       "\t<tr><td>tbl_srprimarycaremedication</td></tr>\n",
       "\t<tr><td>tbl_srreferralin           </td></tr>\n",
       "\t<tr><td>tbl_srreferralout          </td></tr>\n",
       "\t<tr><td>tbl_srstaffmemberprofile   </td></tr>\n",
       "\t<tr><td>tbl_srvisit                </td></tr>\n",
       "\t<tr><td>tbl_visit_builder          </td></tr>\n",
       "\t<tr><td>tbl_visit_detail           </td></tr>\n",
       "\t<tr><td>tbl_visit_occurrence       </td></tr>\n",
       "\t<tr><td>tbl_visit_occurrence_imo   </td></tr>\n",
       "</tbody>\n",
       "</table>\n"
      ],
      "text/latex": [
       "A tibble: 17 × 1\n",
       "\\begin{tabular}{l}\n",
       " table\\_name\\\\\n",
       " <chr>\\\\\n",
       "\\hline\n",
       "\t tbl\\_srappointment          \\\\\n",
       "\t tbl\\_srcode                 \\\\\n",
       "\t tbl\\_srconfiguredlistoption \\\\\n",
       "\t tbl\\_srimmunisation         \\\\\n",
       "\t tbl\\_srimmunisationcontent  \\\\\n",
       "\t tbl\\_srpatient              \\\\\n",
       "\t tbl\\_srpatientaddresshistory\\\\\n",
       "\t tbl\\_srpatientregistration  \\\\\n",
       "\t tbl\\_srprimarycaremedication\\\\\n",
       "\t tbl\\_srreferralin           \\\\\n",
       "\t tbl\\_srreferralout          \\\\\n",
       "\t tbl\\_srstaffmemberprofile   \\\\\n",
       "\t tbl\\_srvisit                \\\\\n",
       "\t tbl\\_visit\\_builder          \\\\\n",
       "\t tbl\\_visit\\_detail           \\\\\n",
       "\t tbl\\_visit\\_occurrence       \\\\\n",
       "\t tbl\\_visit\\_occurrence\\_imo   \\\\\n",
       "\\end{tabular}\n"
      ],
      "text/markdown": [
       "\n",
       "A tibble: 17 × 1\n",
       "\n",
       "| table_name &lt;chr&gt; |\n",
       "|---|\n",
       "| tbl_srappointment           |\n",
       "| tbl_srcode                  |\n",
       "| tbl_srconfiguredlistoption  |\n",
       "| tbl_srimmunisation          |\n",
       "| tbl_srimmunisationcontent   |\n",
       "| tbl_srpatient               |\n",
       "| tbl_srpatientaddresshistory |\n",
       "| tbl_srpatientregistration   |\n",
       "| tbl_srprimarycaremedication |\n",
       "| tbl_srreferralin            |\n",
       "| tbl_srreferralout           |\n",
       "| tbl_srstaffmemberprofile    |\n",
       "| tbl_srvisit                 |\n",
       "| tbl_visit_builder           |\n",
       "| tbl_visit_detail            |\n",
       "| tbl_visit_occurrence        |\n",
       "| tbl_visit_occurrence_imo    |\n",
       "\n"
      ],
      "text/plain": [
       "   table_name                 \n",
       "1  tbl_srappointment          \n",
       "2  tbl_srcode                 \n",
       "3  tbl_srconfiguredlistoption \n",
       "4  tbl_srimmunisation         \n",
       "5  tbl_srimmunisationcontent  \n",
       "6  tbl_srpatient              \n",
       "7  tbl_srpatientaddresshistory\n",
       "8  tbl_srpatientregistration  \n",
       "9  tbl_srprimarycaremedication\n",
       "10 tbl_srreferralin           \n",
       "11 tbl_srreferralout          \n",
       "12 tbl_srstaffmemberprofile   \n",
       "13 tbl_srvisit                \n",
       "14 tbl_visit_builder          \n",
       "15 tbl_visit_detail           \n",
       "16 tbl_visit_occurrence       \n",
       "17 tbl_visit_occurrence_imo   "
      ]
     },
     "metadata": {},
     "output_type": "display_data"
    }
   ],
   "source": [
    "\n",
    "sql3 <-paste('drop table if  exists ' ,targetdb,'.tmp_unit_test_tables;', sep = \"\")\n",
    "tb3 <- bq_project_query(project_id, sql3)\n",
    "\n",
    "sql4 <-paste('create table if not exists ' ,targetdb,'.tmp_unit_test_tables  as select table_name from ' ,targetdb, '.INFORMATION_SCHEMA.TABLES\n",
    "where table_name not in (\"person\", \"care_site\", \"observation_period\", \"provider\", \"tbl_change_log\") \n",
    "and table_name not like \"tmp%\" \n",
    "order by table_name ' , sep = \"\")\n",
    "tb4 <- bq_project_query(project_id, sql4)\n",
    "#print(sql3)\n",
    "#bit below is to display the results of the query\n",
    "table <- bq_table_download(tb4)\n",
    "table"
   ]
  },
  {
   "cell_type": "code",
   "execution_count": 10,
   "id": "a2df8e95-1754-481f-9a78-b4d1d6846804",
   "metadata": {},
   "outputs": [
    {
     "data": {
      "text/html": [
       "<table class=\"dataframe\">\n",
       "<caption>A tibble: 0 × 2</caption>\n",
       "<thead>\n",
       "\t<tr><th scope=col>person_id</th><th scope=col>person_id_1</th></tr>\n",
       "\t<tr><th scope=col>&lt;int64&gt;</th><th scope=col>&lt;int64&gt;</th></tr>\n",
       "</thead>\n",
       "<tbody>\n",
       "</tbody>\n",
       "</table>\n"
      ],
      "text/latex": [
       "A tibble: 0 × 2\n",
       "\\begin{tabular}{ll}\n",
       " person\\_id & person\\_id\\_1\\\\\n",
       " <int64> & <int64>\\\\\n",
       "\\hline\n",
       "\\end{tabular}\n"
      ],
      "text/markdown": [
       "\n",
       "A tibble: 0 × 2\n",
       "\n",
       "| person_id &lt;int64&gt; | person_id_1 &lt;int64&gt; |\n",
       "|---|---|\n",
       "\n"
      ],
      "text/plain": [
       "     person_id person_id_1"
      ]
     },
     "metadata": {},
     "output_type": "display_data"
    }
   ],
   "source": [
    "# Unit test 1 - does person_id in person table exist in data tables (will iterate through the data tables)\n",
    "\n",
    "sql5 <-paste('select a.person_id , per.person_id from ' ,targetdb,'.tbl_srappointment a \n",
    "left join ',targetdb,'.person per \n",
    "on a.person_id = per.person_id where a.person_id is not null and per.person_id is null ' , sep = \"\")\n",
    "tb5 <- bq_project_query(project_id, sql5)\n",
    "#print(sql3)\n",
    "#bit below is to display the results of the query\n",
    "table <- bq_table_download(tb5)\n",
    "table"
   ]
  },
  {
   "cell_type": "code",
   "execution_count": 11,
   "id": "b58780c4-7cc7-481b-8b45-c54a354cec60",
   "metadata": {},
   "outputs": [
    {
     "data": {
      "text/html": [
       "<table class=\"dataframe\">\n",
       "<caption>A tibble: 0 × 2</caption>\n",
       "<thead>\n",
       "\t<tr><th scope=col>person_id</th><th scope=col>person_id_1</th></tr>\n",
       "\t<tr><th scope=col>&lt;int64&gt;</th><th scope=col>&lt;int64&gt;</th></tr>\n",
       "</thead>\n",
       "<tbody>\n",
       "</tbody>\n",
       "</table>\n"
      ],
      "text/latex": [
       "A tibble: 0 × 2\n",
       "\\begin{tabular}{ll}\n",
       " person\\_id & person\\_id\\_1\\\\\n",
       " <int64> & <int64>\\\\\n",
       "\\hline\n",
       "\\end{tabular}\n"
      ],
      "text/markdown": [
       "\n",
       "A tibble: 0 × 2\n",
       "\n",
       "| person_id &lt;int64&gt; | person_id_1 &lt;int64&gt; |\n",
       "|---|---|\n",
       "\n"
      ],
      "text/plain": [
       "     person_id person_id_1"
      ]
     },
     "metadata": {},
     "output_type": "display_data"
    }
   ],
   "source": [
    "# Unit test 2 - does person_id in data tables exist in person table  (will iterate through the data tables)\n",
    "\n",
    "sql6 <-paste('select per.person_id , a.person_id from ' ,targetdb,'.tbl_srappointment a \n",
    "left join ',targetdb,'.person per \n",
    "on a.person_id = per.person_id where a.person_id is null and per.person_id is not null ' , sep = \"\")\n",
    "tb6 <- bq_project_query(project_id, sql6)\n",
    "#print(sql3)\n",
    "#bit below is to display the results of the query\n",
    "table <- bq_table_download(tb6)\n",
    "table"
   ]
  },
  {
   "cell_type": "code",
   "execution_count": 13,
   "id": "2ea2ab9c-c288-40d5-b0b3-41b673f74207",
   "metadata": {},
   "outputs": [
    {
     "data": {
      "text/html": [
       "<table class=\"dataframe\">\n",
       "<caption>A tibble: 0 × 1</caption>\n",
       "<thead>\n",
       "\t<tr><th scope=col>person_id</th></tr>\n",
       "\t<tr><th scope=col>&lt;int64&gt;</th></tr>\n",
       "</thead>\n",
       "<tbody>\n",
       "</tbody>\n",
       "</table>\n"
      ],
      "text/latex": [
       "A tibble: 0 × 1\n",
       "\\begin{tabular}{l}\n",
       " person\\_id\\\\\n",
       " <int64>\\\\\n",
       "\\hline\n",
       "\\end{tabular}\n"
      ],
      "text/markdown": [
       "\n",
       "A tibble: 0 × 1\n",
       "\n",
       "| person_id &lt;int64&gt; |\n",
       "|---|\n",
       "\n"
      ],
      "text/plain": [
       "     person_id"
      ]
     },
     "metadata": {},
     "output_type": "display_data"
    }
   ],
   "source": [
    "#unit test 3 - does the observation period end date exceed the death date + 42\n",
    "\n",
    "\n",
    "sql7 <-paste(' SELECT obs.person_id,  FROM ' ,targetdb,' .person per\n",
    " , ' ,targetdb,'.observation_period obs\n",
    " where per.death_datetime is not null \n",
    " and per.person_id = obs.person_id\n",
    " and obs.observation_period_end_date > date_add(per.death_datetime, INTERVAL 42 DAY)  ' , sep = \"\")\n",
    "tb7 <- bq_project_query(project_id, sql7)\n",
    "#print(sql7)\n",
    "#bit below is to display the results of the query\n",
    "table <- bq_table_download(tb7)\n",
    "table"
   ]
  },
  {
   "cell_type": "code",
   "execution_count": 14,
   "id": "a4eee2b6-b7a2-46bc-9e3e-14dfabec5034",
   "metadata": {},
   "outputs": [
    {
     "data": {
      "text/html": [
       "<table class=\"dataframe\">\n",
       "<caption>A tibble: 0 × 1</caption>\n",
       "<thead>\n",
       "\t<tr><th scope=col>person_id</th></tr>\n",
       "\t<tr><th scope=col>&lt;int64&gt;</th></tr>\n",
       "</thead>\n",
       "<tbody>\n",
       "</tbody>\n",
       "</table>\n"
      ],
      "text/latex": [
       "A tibble: 0 × 1\n",
       "\\begin{tabular}{l}\n",
       " person\\_id\\\\\n",
       " <int64>\\\\\n",
       "\\hline\n",
       "\\end{tabular}\n"
      ],
      "text/markdown": [
       "\n",
       "A tibble: 0 × 1\n",
       "\n",
       "| person_id &lt;int64&gt; |\n",
       "|---|\n",
       "\n"
      ],
      "text/plain": [
       "     person_id"
      ]
     },
     "metadata": {},
     "output_type": "display_data"
    }
   ],
   "source": [
    "#unit_ test 4 - Is the observation_period start date before the birthdate (where exists)  \n",
    "\n",
    "sql8 <-paste(' SELECT obs.person_id,  FROM ' ,targetdb,' .person per\n",
    " , ' ,targetdb,'.observation_period obs\n",
    " where per.birth_datetime is not null \n",
    " and per.person_id = obs.person_id\n",
    " and obs.observation_period_start_date < per.birth_datetime ' , sep = \"\")\n",
    "tb8 <- bq_project_query(project_id, sql8)\n",
    "#print(sql8)\n",
    "#bit below is to display the results of the query\n",
    "table <- bq_table_download(tb8)\n",
    "table\n",
    "\n"
   ]
  },
  {
   "cell_type": "code",
   "execution_count": null,
   "id": "ff2f5411-b3eb-4f73-bf2d-dc0ad27c7d83",
   "metadata": {},
   "outputs": [],
   "source": [
    "# observation period tests\n",
    "# Unit test 5 - does data in the data tables exceed the death +42 date of an individual?  (will iterate through the data tables)\n",
    "\n",
    "sql9 <-paste('select per.person_id , a.person_id from ' ,targetdb,'.tbl_srappointment a \n",
    "left join ',targetdb,'.person per \n",
    "on a.person_id = per.person_id where a.person_id is null and per.person_id is not null ' , sep = \"\")\n",
    "tb9 <- bq_project_query(project_id, sql9)\n",
    "#print(sql9)\n",
    "#bit below is to display the results of the query\n",
    "table <- bq_table_download(tb9)\n",
    "table"
   ]
  },
  {
   "cell_type": "code",
   "execution_count": null,
   "id": "85eea2e3-185f-4758-837f-b453db0bce96",
   "metadata": {},
   "outputs": [],
   "source": [
    "#data outside obs periods \n",
    "#Unit test 6 - does the data in the data tables start before the observation period start date\n",
    "\n",
    "sql10 <-paste('select distinct obs.person_id, FROM ' ,targetdb,'.tbl_srappointment a\n",
    " , ',targetdb,'.observation_period obs\n",
    " where obs.person_id = obs.person_id\n",
    " and a.tbl_srappointment_start_date < obs.observation_period_start_date ' , sep = \"\")\n",
    "\n",
    "tb8 <- bq_project_query(project_id, sql10)\n",
    "#print(sql10)\n",
    "#bit below is to display the results of the query\n",
    "table <- bq_table_download(tb10)\n",
    "table"
   ]
  },
  {
   "cell_type": "code",
   "execution_count": null,
   "id": "15e9ee73-bde5-4699-a4c4-f8c680db3e7a",
   "metadata": {},
   "outputs": [],
   "source": [
    "#data outside obs periods - sanity check\n",
    "#Unit test 6a - does the data in the data tables start after the observation period end date\n",
    "\n",
    "sql10a <-paste('select distinct obs.person_id, FROM ' ,targetdb,'.tbl_srappointment a\n",
    " , ',targetdb,'.observation_period obs\n",
    " where obs.person_id = obs.person_id\n",
    " and a.tbl_srappointment_start_date > obs.observation_period_end_date ' , sep = \"\")\n",
    "\n",
    "tb8 <- bq_project_query(project_id, sql10a)\n",
    "#print(sql10a)\n",
    "#bit below is to display the results of the query\n",
    "print (\"Completed\")\n",
    "table <- bq_table_download(tb10a)\n",
    "table\n"
   ]
  },
  {
   "cell_type": "code",
   "execution_count": null,
   "id": "6196b0e1-47e6-4cb0-a3ac-3e18cff50076",
   "metadata": {},
   "outputs": [],
   "source": [
    "#data outside obs periods \n",
    "#Unit test 7 - does the data in the data tables end after the observation period end date\n",
    "\n",
    "sql11 <-paste('select distinct obs.person_id, FROM ' ,targetdb,'.tbl_srappointment a\n",
    " , ' ,targetdb,'.observation_period obs\n",
    " where obs.person_id = obs.person_id\n",
    " and a.tbl_srappointment_end_date > obs.observation_period_end_date ' , sep = \"\")\n",
    "\n",
    "tb8 <- bq_project_query(project_id, sql11)\n",
    "#print(sql11)\n",
    "#bit below is to display the results of the query\n",
    "table <- bq_table_download(tb11)\n",
    "table"
   ]
  },
  {
   "cell_type": "code",
   "execution_count": null,
   "id": "0eaf5953-1b52-4578-9f7b-d2a048644559",
   "metadata": {},
   "outputs": [],
   "source": [
    "#data outside obs periods - sanity check\n",
    "#Unit test 7a  - does the data in the data tables end before the observation period start date\n",
    "\n",
    "sql11a <-paste('select distinct obs.person_id, FROM ' ,targetdb,'.tbl_srappointment a\n",
    " , ' ,targetdb,'.observation_period obs\n",
    " where obs.person_id = obs.person_id\n",
    " and a.tbl_srappointment_end_date < obs.observation_period_start_date ' , sep = \"\")\n",
    "\n",
    "tb8 <- bq_project_query(project_id, sql11a)\n",
    "#print(sql11a)\n",
    "#bit below is to display the results of the query\n",
    "table <- bq_table_download(tb11a)\n",
    "table"
   ]
  }
 ],
 "metadata": {
  "environment": {
   "kernel": "ir",
   "name": "r-cpu.4-1.m90",
   "type": "gcloud",
   "uri": "gcr.io/deeplearning-platform-release/r-cpu.4-1:m90"
  },
  "kernelspec": {
   "display_name": "R",
   "language": "R",
   "name": "ir"
  },
  "language_info": {
   "codemirror_mode": "r",
   "file_extension": ".r",
   "mimetype": "text/x-r-source",
   "name": "R",
   "pygments_lexer": "r",
   "version": "4.1.3"
  }
 },
 "nbformat": 4,
 "nbformat_minor": 5
}
